{
  "nbformat": 4,
  "nbformat_minor": 0,
  "metadata": {
    "colab": {
      "provenance": []
    },
    "kernelspec": {
      "name": "python3",
      "display_name": "Python 3"
    },
    "language_info": {
      "name": "python"
    }
  },
  "cells": [
    {
      "cell_type": "markdown",
      "source": [
        "Program to implement One-way and Two-way ANOVA tests and analyze the results."
      ],
      "metadata": {
        "id": "_dxjOmRBv_tm"
      }
    },
    {
      "cell_type": "code",
      "execution_count": 1,
      "metadata": {
        "id": "YoL0i2__utHH"
      },
      "outputs": [],
      "source": [
        "# Importing libraries\n",
        "import pandas as pd\n",
        "import numpy as np\n",
        "from scipy import stats\n",
        "import statsmodels.api as sm\n",
        "from statsmodels.formula.api import ols"
      ]
    },
    {
      "cell_type": "code",
      "source": [
        "# 1. One-Way Anova\n",
        "# Hypothesis: Do the mean scores differ between 3 sections?\n",
        "section_A = [82, 85, 88, 90, 87]\n",
        "section_B = [78, 80, 76, 79, 77]\n",
        "section_C = [92, 94, 91, 93, 95]\n",
        "f_stat, p_value = stats.f_oneway(section_A, section_B, section_C)\n",
        "print(\"One-Way ANOVA\")\n",
        "print(\"F-statistic:\", f_stat)\n",
        "print(\"p_value:\", p_value)"
      ],
      "metadata": {
        "colab": {
          "base_uri": "https://localhost:8080/"
        },
        "id": "VxyHXg8JvHQe",
        "outputId": "b498cd6a-14e5-402f-ee5e-254c109d6352"
      },
      "execution_count": 3,
      "outputs": [
        {
          "output_type": "stream",
          "name": "stdout",
          "text": [
            "One-Way ANOVA\n",
            "F-statistic: 59.28671328671325\n",
            "p_value: 6.025022441425727e-07\n"
          ]
        }
      ]
    },
    {
      "cell_type": "code",
      "source": [
        "# 2.Two-Way Anova\n",
        "# Example: Study effect of Teaching Method and Gender on Marks.\n",
        "data = pd.DataFrame({\n",
        "    'Marks' : [85, 88, 90, 70, 72, 75, 80, 83, 85, 65, 67, 68],\n",
        "    'Method' : ['Online'] * 6 + ['Offline'] * 6,\n",
        "    'Gender' : ['M', 'M', 'F', 'F', 'M', 'F', 'M', 'M', 'F', 'F', 'M', 'F']\n",
        "})"
      ],
      "metadata": {
        "id": "GLBZ3gFuvQBq"
      },
      "execution_count": 4,
      "outputs": []
    },
    {
      "cell_type": "code",
      "source": [
        "# Convert Method & Gender into Categorical (important!)\n",
        "data['Method'] = data['Method'].astype('category')\n",
        "data['Gender'] = data['Gender'].astype('category')"
      ],
      "metadata": {
        "id": "1jlmix9mvq2c"
      },
      "execution_count": 5,
      "outputs": []
    },
    {
      "cell_type": "code",
      "source": [
        "# Build model: Marks ~ Method + Gender + Method * Gender\n",
        "model = ols('Marks ~ Method + Gender + Method * Gender', data = data).fit()\n",
        "anova_table = sm.stats.anova_lm(model, typ=2)\n",
        "print(\"Two-Way ANOVA\")\n",
        "print(anova_table)"
      ],
      "metadata": {
        "colab": {
          "base_uri": "https://localhost:8080/"
        },
        "id": "crzpPEi9vwcn",
        "outputId": "68a3800d-6f4e-46d2-fe7e-dff33aa4865a"
      },
      "execution_count": 6,
      "outputs": [
        {
          "output_type": "stream",
          "name": "stdout",
          "text": [
            "Two-Way ANOVA\n",
            "                   sum_sq   df         F    PR(>F)\n",
            "Method          85.333333  1.0  0.924188  0.364530\n",
            "Gender          40.333333  1.0  0.436823  0.527231\n",
            "Method:Gender    0.333333  1.0  0.003610  0.953562\n",
            "Residual       738.666667  8.0       NaN       NaN\n"
          ]
        }
      ]
    }
  ]
}