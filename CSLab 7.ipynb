{
 "cells": [
  {
   "cell_type": "markdown",
   "id": "45556663-9f3b-492a-9e46-f7f65e1c3011",
   "metadata": {},
   "source": [
    "### Program to implement one sample, two sample and paired sample t-tests for a sample data and analyse the results."
   ]
  },
  {
   "cell_type": "code",
   "execution_count": null,
   "id": "228d7bbb-da23-4616-945b-a04713db07d4",
   "metadata": {},
   "outputs": [],
   "source": []
  }
 ],
 "metadata": {
  "kernelspec": {
   "display_name": "Python [conda env:base] *",
   "language": "python",
   "name": "conda-base-py"
  },
  "language_info": {
   "codemirror_mode": {
    "name": "ipython",
    "version": 3
   },
   "file_extension": ".py",
   "mimetype": "text/x-python",
   "name": "python",
   "nbconvert_exporter": "python",
   "pygments_lexer": "ipython3",
   "version": "3.12.7"
  }
 },
 "nbformat": 4,
 "nbformat_minor": 5
}
